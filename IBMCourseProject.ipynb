{
 "cells": [
  {
   "cell_type": "markdown",
   "id": "73aa7b52-f29c-4fde-b8d5-6c0dbf7179ea",
   "metadata": {},
   "source": [
    "# My Jupyter Notebook on IBM Watson Studio"
   ]
  },
  {
   "cell_type": "markdown",
   "id": "11bc098c-c386-45ab-8db8-f1337844d1ff",
   "metadata": {},
   "source": [
    "**Aliyan Afzal:** Data Scientist"
   ]
  },
  {
   "cell_type": "markdown",
   "id": "1b686f95-9440-4851-9b11-10aa5599913f",
   "metadata": {},
   "source": [
    "_I am interested in data science because I love to play with data and want to get helpful insights from it, to solved the real-world problems._"
   ]
  },
  {
   "cell_type": "markdown",
   "id": "bb3b3d97-9b11-417c-8c84-de7a7d00f3dc",
   "metadata": {},
   "source": [
    "### The following code prints statement of \"a\" "
   ]
  },
  {
   "cell_type": "code",
   "execution_count": 3,
   "id": "5ea40608-ef83-49af-857e-ff659ca44986",
   "metadata": {},
   "outputs": [
    {
     "name": "stdout",
     "output_type": "stream",
     "text": [
      "Avengers Assemble\n"
     ]
    }
   ],
   "source": [
    "a = \"Avengers Assemble\"\n",
    "print(a)"
   ]
  },
  {
   "cell_type": "markdown",
   "id": "a9120de1-67b3-4f66-b64b-a062c7dfe90e",
   "metadata": {},
   "source": [
    "- **one**\n",
    "- **two**\n",
    "- **three**\n"
   ]
  }
 ],
 "metadata": {
  "kernelspec": {
   "display_name": "Python",
   "language": "python",
   "name": "conda-env-python-py"
  },
  "language_info": {
   "codemirror_mode": {
    "name": "ipython",
    "version": 3
   },
   "file_extension": ".py",
   "mimetype": "text/x-python",
   "name": "python",
   "nbconvert_exporter": "python",
   "pygments_lexer": "ipython3",
   "version": "3.7.12"
  }
 },
 "nbformat": 4,
 "nbformat_minor": 5
}
